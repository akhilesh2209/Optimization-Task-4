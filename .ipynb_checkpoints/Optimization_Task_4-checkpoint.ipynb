{
 "cells": [
  {
   "cell_type": "code",
   "execution_count": 1,
   "id": "17688deb-2e17-48aa-9657-f3ea3c2c97ec",
   "metadata": {},
   "outputs": [
    {
     "name": "stdout",
     "output_type": "stream",
     "text": [
      "Requirement already satisfied: pulp in d:\\optimization_task_4\\venv\\lib\\site-packages (3.2.1)\n"
     ]
    }
   ],
   "source": [
    "!pip install pulp"
   ]
  },
  {
   "cell_type": "code",
   "execution_count": 2,
   "id": "9225161b-277e-4168-9bec-994acd91b202",
   "metadata": {},
   "outputs": [],
   "source": [
    "from pulp import LpMaximize, LpProblem, LpVariable, lpSum, LpStatus"
   ]
  },
  {
   "cell_type": "code",
   "execution_count": 3,
   "id": "e303b3db-fc87-406a-828e-edc125d779ab",
   "metadata": {},
   "outputs": [],
   "source": [
    "model = LpProblem(name=\"factory-production\", sense=LpMaximize)"
   ]
  },
  {
   "cell_type": "code",
   "execution_count": 4,
   "id": "e497c970-c7b4-4e0f-accc-b6c6d9782b64",
   "metadata": {},
   "outputs": [],
   "source": [
    "# x = Product A units, y = Product B units\n",
    "x = LpVariable(name=\"Product_A\", lowBound=0, cat='Integer')\n",
    "y = LpVariable(name=\"Product_B\", lowBound=0, cat='Integer')"
   ]
  },
  {
   "cell_type": "code",
   "execution_count": 5,
   "id": "98651c8d-8618-4927-ae07-db36b9e3a203",
   "metadata": {},
   "outputs": [],
   "source": [
    "# Constraint 1: Machine time\n",
    "model += (2 * x + 4 * y <= 100, \"Machine_Time\")\n",
    "\n",
    "# Constraint 2: Raw materials\n",
    "model += (3 * x + 2 * y <= 90, \"Raw_Material\")"
   ]
  },
  {
   "cell_type": "code",
   "execution_count": 6,
   "id": "17aa232a-0c58-4682-949f-536c40a39324",
   "metadata": {},
   "outputs": [],
   "source": [
    "# Objective: Maximize profit = 20x + 30y\n",
    "model += 20 * x + 30 * y\n"
   ]
  },
  {
   "cell_type": "code",
   "execution_count": 7,
   "id": "7d8e3100-e2bd-4fb0-99e7-0d418650a4e4",
   "metadata": {},
   "outputs": [],
   "source": [
    "status = model.solve()"
   ]
  },
  {
   "cell_type": "code",
   "execution_count": 8,
   "id": "52537ea4-3b56-45be-8be6-6899d8d8002b",
   "metadata": {},
   "outputs": [
    {
     "name": "stdout",
     "output_type": "stream",
     "text": [
      "Status: Optimal\n",
      "Produce 20.0 units of Product A\n",
      "Produce 15.0 units of Product B\n",
      "Maximum Profit: ₹850.0\n"
     ]
    }
   ],
   "source": [
    "print(f\"Status: {LpStatus[model.status]}\")\n",
    "print(f\"Produce {x.value()} units of Product A\")\n",
    "print(f\"Produce {y.value()} units of Product B\")\n",
    "print(f\"Maximum Profit: ₹{model.objective.value()}\")"
   ]
  },
  {
   "cell_type": "markdown",
   "id": "9cc4da24-817a-4c6c-b696-9acb3aec5ea1",
   "metadata": {},
   "source": [
    "### 📊 Business Insights\n",
    "\n",
    "- The optimal strategy is to produce **20 units of Product A** and **15 units of Product B**.\n",
    "- This production plan will **maximize the profit to ₹850** while satisfying all resource constraints (labor and material).\n",
    "- The optimization model helps the business **utilize resources efficiently** and **make data-driven production decisions**.\n"
   ]
  }
 ],
 "metadata": {
  "kernelspec": {
   "display_name": "Python 3 (ipykernel)",
   "language": "python",
   "name": "python3"
  },
  "language_info": {
   "codemirror_mode": {
    "name": "ipython",
    "version": 3
   },
   "file_extension": ".py",
   "mimetype": "text/x-python",
   "name": "python",
   "nbconvert_exporter": "python",
   "pygments_lexer": "ipython3",
   "version": "3.10.9"
  }
 },
 "nbformat": 4,
 "nbformat_minor": 5
}
